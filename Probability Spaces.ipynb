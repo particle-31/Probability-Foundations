{
 "cells": [
  {
   "cell_type": "markdown",
   "metadata": {},
   "source": [
    "### Probability Spaces"
   ]
  },
  {
   "cell_type": "markdown",
   "metadata": {},
   "source": [
    "_Notation_: \n",
    "Lowercase letters will be used to denote elements of a set, capital letters for sets, and script for collections of sets. Thus $x \\in A \\in \\mathscr{F}$. (This reflects the heirarchy of objects in set theory, e.g. the sequence is followed sets of sets of sets, and so on). \n",
    "\n",
    "_DeMorgan's law_: The truth of $\\left(\\bigcup_{i \\in I} A_i \\right)^c = \\bigcap_{i \\in I} A_i^{\\;c}$ and $\\left(\\bigcap_{i \\in I} A_i\\right)^c = \\bigcup_{i \\in I} A_i^{\\;c}$ is a _matter of logic_ $-$ simply negate the quantifiers that define these sets."
   ]
  },
  {
   "cell_type": "markdown",
   "metadata": {},
   "source": [
    " "
   ]
  },
  {
   "cell_type": "markdown",
   "metadata": {},
   "source": [
    "#### Sigma algebra, $\\mathscr{F}$"
   ]
  },
  {
   "cell_type": "markdown",
   "metadata": {},
   "source": [
    "__Def.__ A collection $\\mathscr{F}$ of subsets of $\\Omega$ is a __$\\sigma$-algebra__ if\n",
    "1. $\\emptyset \\in \\mathscr{F}$.\n",
    "    \n",
    "2. If $A \\in \\mathscr{F}$, then $A^c \\in \\mathscr{F}$.\n",
    "\n",
    "3. If $A_1, A_2, \\dots$ is a countable collection of subsets in $\\mathscr{F}$, then $\\bigcup_{i=1}^\\infty A_i \\in \\mathscr{F}.$"
   ]
  },
  {
   "cell_type": "markdown",
   "metadata": {},
   "source": [
    "Observations:\n",
    "1. The axioms imply that any $\\sigma$-algebra over $\\Omega$ contains $\\Omega$.\n",
    "2. The union $\\bigcup_{i=1}^\\infty A_i$ is not a limit! There is no limiting process involved in adding more and more sets into the union. One should write $\\bigcup_{i \\in \\mathbb{N}} A_i$ for zero ambiguity."
   ]
  },
  {
   "cell_type": "markdown",
   "metadata": {},
   "source": [
    " "
   ]
  },
  {
   "cell_type": "markdown",
   "metadata": {},
   "source": [
    "#### Measure spaces"
   ]
  },
  {
   "cell_type": "markdown",
   "metadata": {},
   "source": [
    "__Def.__ A __measure__ on $(\\Omega, \\mathscr{F})$ is a function $\\mu\\colon \\mathscr{F} \\to [0, \\infty]$ such that\n",
    "1. $\\mu(\\emptyset) = 0.$\n",
    "2. If $A_1, A_2, \\dots \\in \\mathscr{F}$ are a countable collection of pairwise disjoint sets, then $\\mu\\left(\\bigcup_{i=1}^\\infty A_i\\right) = \\sum_{i=1}^\\infty \\mu(A_i)$."
   ]
  },
  {
   "cell_type": "markdown",
   "metadata": {},
   "source": [
    "The inclusion of $\\infty$ in the range of $\\mu$ is not a typo. Indeed, the right hand side of the sum in (2) is either convergent or tends to $\\infty$ (series of positive terms does not oscillate). Rearrangement of terms will not affect the sum, consistent with the union where order is immaterial. Also $\\mu(\\emptyset) = 0$ is forced by (2), otherwise, we can add positive terms on the right hand side without adding content on the set being measured on the left hand side. "
   ]
  },
  {
   "cell_type": "markdown",
   "metadata": {},
   "source": [
    "The triple $\\left( \\Omega, \\mathscr{F}, \\mu \\right)$ is called a _measure space_. Again, $\\Omega \\in \\mathscr{F}$, we classify the measure $\\mu$ as follows:\n",
    "1. $\\mu(\\Omega) < \\infty$ (finite measure).\n",
    "2. $\\mu(\\Omega) = \\infty$ (infinite measure).\n",
    "\n",
    "In particular, if $\\mu(\\Omega) = 1$, then $\\mu$ is called a probability measure. "
   ]
  },
  {
   "cell_type": "markdown",
   "metadata": {},
   "source": [
    " "
   ]
  },
  {
   "cell_type": "markdown",
   "metadata": {},
   "source": [
    "#### Probability space"
   ]
  },
  {
   "cell_type": "markdown",
   "metadata": {},
   "source": [
    "__Def.__ A __probability space__ is a measure space $(\\Omega, \\mathscr{F}, \\mathbb{P})$ such that $\\mathbb{P}(\\Omega) = 1$. That is,\n",
    "1. $\\mathbb{P}(\\emptyset) = 0$\n",
    "2. $\\mathbb{P}(\\Omega) = 1$\n",
    "3. If $A_1, A_2, \\dots$ are a countable collection of pairwise disjoint sets in $\\mathscr{F}$, then $\\mathbb{P}\\left(\\bigcup_{i=1}^\\infty A_i\\right) = \\sum_{i=1}^\\infty \\mathbb{P}(A_i)$."
   ]
  },
  {
   "cell_type": "markdown",
   "metadata": {},
   "source": [
    "Probability theory is a special case of measure theory, where we equip a probability measure on our measure space. When modelling random experiments, we interpret the sample space $\\Omega$, the event space $\\mathscr{F}$, and the probability measure $\\mathbb{P}$. The theory provides a framework for posing questions and solutions $-$ not answers to problems."
   ]
  },
  {
   "cell_type": "markdown",
   "metadata": {},
   "source": [
    "__Final remarks__: \n",
    "1. One lore is that we cannot always take $\\mathscr{F} = 2^\\Omega$. Indeed, why all this business with $\\mathscr{F}$? Turns out (for fairly _deep reasons_ $-$ this is an impossibility proof after all) that there are spaces where there does not exist a measure of the form $\\mathbb{P}\\colon\\ \\mathscr{F} \\to [0,1]$. \n",
    "\n",
    "2. For sets with $|\\Omega| \\leq \\aleph_0$, we can take $\\mathscr{F} = 2^\\Omega$. For finite sample space $\\Omega$, take $\\mathbb{P}(A) = \\frac{|A|}{|\\Omega|}$. For a countably infinite sample space $\\Omega = \\{x_1, x_2, \\dots\\}$, take $\\mathbb{P}(A) = \\sum_{x_k \\in A} \\frac{1}{2^k}$ (simply rearrange the series terms to show countable additivity)."
   ]
  },
  {
   "cell_type": "markdown",
   "metadata": {},
   "source": [
    "### Exercises"
   ]
  },
  {
   "cell_type": "markdown",
   "metadata": {},
   "source": []
  }
 ],
 "metadata": {
  "kernelspec": {
   "display_name": "Python 3",
   "language": "python",
   "name": "python3"
  },
  "language_info": {
   "codemirror_mode": {
    "name": "ipython",
    "version": 3
   },
   "file_extension": ".py",
   "mimetype": "text/x-python",
   "name": "python",
   "nbconvert_exporter": "python",
   "pygments_lexer": "ipython3",
   "version": "3.7.2"
  }
 },
 "nbformat": 4,
 "nbformat_minor": 2
}
